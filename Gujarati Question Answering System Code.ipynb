{
  "nbformat": 4,
  "nbformat_minor": 0,
  "metadata": {
    "colab": {
      "name": "Copy of Final_QA_System_Combined.ipynb",
      "provenance": [],
      "collapsed_sections": []
    },
    "kernelspec": {
      "name": "python3",
      "display_name": "Python 3"
    },
    "language_info": {
      "name": "python"
    }
  },
  "cells": [
    {
      "cell_type": "markdown",
      "source": [
        "##Importing Important Libraries"
      ],
      "metadata": {
        "id": "iEA_7OIIbL7c"
      }
    },
    {
      "cell_type": "code",
      "source": [
        "!pip install pyiwn\n",
        "!pip install nltk\n",
        "import nltk\n",
        "nltk.download('punkt')\n",
        "import pyiwn\n",
        "iwn = pyiwn.IndoWordNet(lang=pyiwn.Language.GUJARATI)\n",
        "import re\n",
        "from datetime import datetime"
      ],
      "metadata": {
        "colab": {
          "base_uri": "https://localhost:8080/"
        },
        "id": "3IgZ53NwbGxr",
        "outputId": "a0de2880-c29c-438b-8b80-af8c79a150dc"
      },
      "execution_count": null,
      "outputs": [
        {
          "output_type": "stream",
          "name": "stdout",
          "text": [
            "Collecting pyiwn\n",
            "  Downloading pyiwn-0.0.5-py3-none-any.whl (12 kB)\n",
            "Requirement already satisfied: requests in /usr/local/lib/python3.7/dist-packages (from pyiwn) (2.23.0)\n",
            "Requirement already satisfied: pandas in /usr/local/lib/python3.7/dist-packages (from pyiwn) (1.3.5)\n",
            "Requirement already satisfied: numpy>=1.17.3 in /usr/local/lib/python3.7/dist-packages (from pandas->pyiwn) (1.21.6)\n",
            "Requirement already satisfied: python-dateutil>=2.7.3 in /usr/local/lib/python3.7/dist-packages (from pandas->pyiwn) (2.8.2)\n",
            "Requirement already satisfied: pytz>=2017.3 in /usr/local/lib/python3.7/dist-packages (from pandas->pyiwn) (2022.1)\n",
            "Requirement already satisfied: six>=1.5 in /usr/local/lib/python3.7/dist-packages (from python-dateutil>=2.7.3->pandas->pyiwn) (1.15.0)\n",
            "Requirement already satisfied: idna<3,>=2.5 in /usr/local/lib/python3.7/dist-packages (from requests->pyiwn) (2.10)\n",
            "Requirement already satisfied: chardet<4,>=3.0.2 in /usr/local/lib/python3.7/dist-packages (from requests->pyiwn) (3.0.4)\n",
            "Requirement already satisfied: urllib3!=1.25.0,!=1.25.1,<1.26,>=1.21.1 in /usr/local/lib/python3.7/dist-packages (from requests->pyiwn) (1.24.3)\n",
            "Requirement already satisfied: certifi>=2017.4.17 in /usr/local/lib/python3.7/dist-packages (from requests->pyiwn) (2021.10.8)\n",
            "Installing collected packages: pyiwn\n",
            "Successfully installed pyiwn-0.0.5\n",
            "Requirement already satisfied: nltk in /usr/local/lib/python3.7/dist-packages (3.2.5)\n",
            "Requirement already satisfied: six in /usr/local/lib/python3.7/dist-packages (from nltk) (1.15.0)\n",
            "[nltk_data] Downloading package punkt to /root/nltk_data...\n",
            "[nltk_data]   Unzipping tokenizers/punkt.zip.\n"
          ]
        },
        {
          "output_type": "stream",
          "name": "stderr",
          "text": [
            "2022-04-21:13:50:37,229 INFO     [helpers.py:20] Downloading IndoWordNet data of size ~31 MB...\n"
          ]
        },
        {
          "output_type": "stream",
          "name": "stdout",
          "text": [
            "[██████████████████████████████████████████████████]"
          ]
        },
        {
          "output_type": "stream",
          "name": "stderr",
          "text": [
            "2022-04-21:13:50:40,301 INFO     [helpers.py:43] Extracting /root/iwn_data.tar.gz into /root...\n"
          ]
        },
        {
          "output_type": "stream",
          "name": "stdout",
          "text": [
            "\n"
          ]
        },
        {
          "output_type": "stream",
          "name": "stderr",
          "text": [
            "2022-04-21:13:50:41,995 INFO     [helpers.py:48] Removing temporary zip file from /root/iwn_data.tar.gz\n",
            "2022-04-21:13:50:42,4 INFO     [helpers.py:51] IndoWordNet data successfully downloaded at /root/iwn_data\n",
            "2022-04-21:13:50:42,124 INFO     [utils.py:159] NumExpr defaulting to 2 threads.\n",
            "2022-04-21:13:50:42,692 INFO     [iwn.py:43] Loading gujarati language synsets...\n"
          ]
        }
      ]
    },
    {
      "cell_type": "markdown",
      "source": [
        "##Sentence"
      ],
      "metadata": {
        "id": "0D7kzvBWbVAx"
      }
    },
    {
      "cell_type": "code",
      "source": [
        "Text = \"મેં સુરત શહેરની મુલાકાત લીધી\""
      ],
      "metadata": {
        "id": "auDEnTTHbW54"
      },
      "execution_count": null,
      "outputs": []
    },
    {
      "cell_type": "markdown",
      "source": [
        "##Question\n"
      ],
      "metadata": {
        "id": "eA9wk-n3bYmE"
      }
    },
    {
      "cell_type": "code",
      "source": [
        "Question = \"તમે કયા સ્થળની મુલાકાત લીધી હતી?\" \n",
        "Answer = None\n",
        "X1 = None\n",
        "X2 = None\n",
        "U = None\n",
        "X1_ = None"
      ],
      "metadata": {
        "id": "gEdXq-6ybZ8h"
      },
      "execution_count": null,
      "outputs": []
    },
    {
      "cell_type": "markdown",
      "source": [
        "##Question Word Breakage"
      ],
      "metadata": {
        "id": "p1OZVXvLbdD2"
      }
    },
    {
      "cell_type": "code",
      "source": [
        "wordbreakage = [\"શું\", \" કેટલી\", \"કેટલા\", \"કેતલુ\", \"કેટલો\", \"કયુ\", \"કયા\", \"કયી\", \"કયો\", \"ક્યાં\", \"ક્યારે\", \"કોણ\", \"કોને\", \"કોની\", \"કોનો\", \" કોના\", \"કોનું\"]"
      ],
      "metadata": {
        "id": "rHKlygaXbine"
      },
      "execution_count": null,
      "outputs": []
    },
    {
      "cell_type": "markdown",
      "source": [
        "##Splitting the Question based on the Question Phrase\n"
      ],
      "metadata": {
        "id": "SVEiTkK1b9LQ"
      }
    },
    {
      "cell_type": "code",
      "source": [
        "for i in wordbreakage:\n",
        "  if i in Question:\n",
        "    X1 = Question.partition(i)[0]\n",
        "for i in wordbreakage:\n",
        "  if i in Question:\n",
        "    X2 = Question.partition(i)[2]\n",
        "print(X1)\n",
        "print(X2)"
      ],
      "metadata": {
        "colab": {
          "base_uri": "https://localhost:8080/"
        },
        "id": "-gC-6ffJb9cn",
        "outputId": "5a49d6c9-4ae9-4211-d6b9-8b37549b4801"
      },
      "execution_count": null,
      "outputs": [
        {
          "output_type": "stream",
          "name": "stdout",
          "text": [
            "તમે \n",
            " સ્થળની મુલાકાત લીધી હતી?\n"
          ]
        }
      ]
    },
    {
      "cell_type": "markdown",
      "source": [
        "##Algorithms "
      ],
      "metadata": {
        "id": "It0K6PTHcu31"
      }
    },
    {
      "cell_type": "code",
      "source": [
        "#What Question\n",
        "if \"શું\" in Question:\n",
        "  word = \"નથી\"\n",
        "  if X1 == \"\":\n",
        "    if word in Text:\n",
        "      print(\"ના \" + Text)\n",
        "    else:\n",
        "      print(\"હા \" + Text)\n",
        "  else:\n",
        "    if \"તમારો\" in X1:\n",
        "      X1_ = X1.replace(\"તમારો\", \"મારો\")\n",
        "    if \"તમારું\" in X1:\n",
        "      X1_ = X1.replace(\"તમારું\", \"મારુ\")\n",
        "    if \"તમે\" in X1:\n",
        "      X1_ = X1.replace(\"તમે\", \"મારે\")\n",
        "    if \"તમારા\" in X1:\n",
        "      X1_ = X1.replace(\"તમારા\", \"મારા\")\n",
        "    if \"તમારી\" in X1:\n",
        "      X1_ = X1.replace(\"તમારી\", \"મારી\")\n",
        "    if \"તુ\" in X1:\n",
        "      X1_ = X1.replace(\"તુ\", \"હું\")\n",
        "    if \"તને\" in X1:\n",
        "      X1_ = X1.replace(\"તને\", \"મને\")\n",
        "    if \"તમને\" in X1:\n",
        "      X1_ = X1.replace(\"તમને\", \"અમને\")\n",
        "    if \"તારુ\" in X1:\n",
        "      X1_ = X1.replace(\"તારુ\", \"મારુ\")  \n",
        "  para_tokens = nltk.word_tokenize(Text)\n",
        "  list_of_words = iwn.all_words(pos=pyiwn.PosTag.NOUN)\n",
        "  noun = []\n",
        "  for i in para_tokens:\n",
        "    if i in list_of_words:\n",
        "      noun.append(i) \n",
        "  Z = ' '.join(noun)\n",
        "  for i in range(len(para_tokens)):\n",
        "    if para_tokens[i] == noun[-1]:\n",
        "      Str = para_tokens[i+1: ]\n",
        "  U = ' '.join(Str)\n",
        "  Answer = X1_ + Z +\" \"+ U\n",
        "  l = Answer.split()\n",
        "  k = []\n",
        "  for i in l:\n",
        "    if (Answer.count(i)>=1 and (i not in k)):\n",
        "      k.append(i)\n",
        "  print(' '.join(k))\n",
        "\n",
        "\n",
        "#Where Question\n",
        "if \"ક્યાં\" in Question:\n",
        "  if \"તમારો\" in X1:\n",
        "    X1_ = X1.replace(\"તમારો\", \"મારો\")\n",
        "  elif \"તમારું\" in X1:\n",
        "    X1_ = X1.replace(\"તમારું\", \"મારુ\")\n",
        "  elif \"તમે\" in X1:\n",
        "    X1_ = X1.replace(\"તમે\", \"હું\")\n",
        "  elif \"તમારા\" in X1:\n",
        "    X1_ = X1.replace(\"તમારા\", \"મારા\")\n",
        "  elif \"તમારી\" in X1:\n",
        "    X1_ = X1.replace(\"તમારી\", \"મારી\")\n",
        "  elif \"તુ\" in X1:\n",
        "    X1_ = X1.replace(\"તુ\", \"હું\")\n",
        "  elif \"તને\" in X1:\n",
        "    X1_ = X1.replace(\"તને\", \"મને\")\n",
        "  elif \"તમને\" in X1:\n",
        "    X1_ = X1.replace(\"તમને\", \"અમને\")\n",
        "  elif \"તારુ\" in X1:\n",
        "    X1_ = X1.replace(\"તારુ\", \"મારુ\")\n",
        "  else:\n",
        "    X1_ = None\n",
        "  para_tokens = nltk.word_tokenize(Text)\n",
        "  list_of_words = iwn.all_words(pos=pyiwn.PosTag.NOUN)\n",
        "  noun = []\n",
        "  for i in para_tokens:\n",
        "    if i in list_of_words:\n",
        "      noun.append(i)\n",
        "  Z = ' '.join(noun)\n",
        "  for i in range(len(para_tokens)):\n",
        "    if para_tokens[i] == noun[-1]:\n",
        "      Str = para_tokens[i+1: ]\n",
        "  U = ' '.join(Str)\n",
        "\n",
        "  if X1_ == None:\n",
        "    Answer = X1 + Z + \" \" + U\n",
        "  else:\n",
        "    Answer = X1_ + Z +\" \"+ U\n",
        "  l = Answer.split()\n",
        "  k = []\n",
        "  for i in l:\n",
        "    if (Answer.count(i)>=1 and (i not in k)):\n",
        "      k.append(i)\n",
        "  print(' '.join(k))\n",
        "\n",
        "\n",
        "#When Question\n",
        "elif \"ક્યારે\" in Question:\n",
        "  X3 = X2.replace(\"?\", \"\")\n",
        "  if \"તમારો\" in X1:\n",
        "    X1_ = X1.replace(\"તમારો\", \"મારો\")\n",
        "  elif \"તમારું\" in X1:\n",
        "    X1_ = X1.replace(\"તમારું\", \"મારુ\")\n",
        "  elif \"તમે\" in X1:\n",
        "    X1_ = X1.replace(\"તમે\", \"હુ\")\n",
        "  elif \"તમારા\" in X1:\n",
        "    X1_ = X1.replace(\"તમારા\", \"મારા\")\n",
        "  elif \"તમારી\" in X1:\n",
        "    X1_ = X1.replace(\"તમારી\", \"મારી\")\n",
        "  elif \"તુ\" in X1:\n",
        "    X1_ = X1.replace(\"તુ\", \"હું\")\n",
        "  elif \"તને\" in X1:\n",
        "    X1_ = X1.replace(\"તને\", \"મને\")\n",
        "  elif \"તમને\" in X1:\n",
        "    X1_ = X1.replace(\"તમને\", \"અમને\")\n",
        "  elif \"તારુ\" in X1:\n",
        "    X1_ = X1.replace(\"તારુ\", \"મારુ\")\n",
        "  else:\n",
        "    X1_ = None\n",
        "  if any(char.isdigit() for char in Text):\n",
        "    def find_date():\n",
        "      date=0\n",
        "      d = re.findall(r'\\d{1,2}[/-]\\d{1,2}[/-]\\d{2,4}',Text)\n",
        "      if d:\n",
        "        date = 1\n",
        "        return d\n",
        "      d = re.findall(r'(?:\\d{1,2} )?(?:Jan|Feb|Mar|Apr|Jun|Jul|Aug|Sep|Oct|Nov|Dec)[a-z]* (?:\\d{1,2}, )?\\d{2,4}',Text)\n",
        "      if d:\n",
        "        date=1\n",
        "        return d\n",
        "    def find_time():\n",
        "      time = 0\n",
        "      t = re.findall(r'\\d{1,2}:\\d{1,2} \\w{2}', Text)\n",
        "      if t:\n",
        "        time=1\n",
        "        return t\n",
        "  else:\n",
        "    i = [\"સોમવારે\", \"મંગળવારે\", \"બુધવારે\", \"ગુરુવારે\", \"શુક્રવારે\", \"શનિવારે\", \"રવિવારે\", \"આજે\", \"આવતીકાલે\", \"ગઇકાલે\", \"પરમદિવસે\", \"સવારે\", \"બપોરે\", \"સાંજે\", \"રાત્રે\", \"મધ્ય રાત્રી એ\"]\n",
        "    for x in i:\n",
        "      if x in Text:\n",
        "        y = []\n",
        "        y.append(x)\n",
        "  try:\n",
        "    O = ' '.join(y)\n",
        "    if X1_ == None:\n",
        "      Answer1 = X1 + O + X3\n",
        "    else:\n",
        "      Answer1 = X1_ + O + X3\n",
        "    print(Answer1)\n",
        "  except:\n",
        "    try:\n",
        "      d = find_date()\n",
        "      U = ' '.join(d)\n",
        "    except:\n",
        "      t = find_time()\n",
        "      U = ' '.join(t)\n",
        "    if X1_ == None:\n",
        "      Answer = X1 + U + X3\n",
        "    else:\n",
        "      Answer = X1_ + U + X3\n",
        "    print(Answer)\n",
        "\n",
        "\n",
        "#Who/ Whom/ Whose Question\n",
        "Who_Whom_Whose = [\"કોણ\", \"કોને\", \"કોની\", \"કોનો\", \" કોના\", \"કોનું\"]\n",
        "for i in Who_Whom_Whose:\n",
        "  if i in Question:\n",
        "    if \"તમારું\" in X1:\n",
        "      X1_ = X1.replace(\"તમારું\", \"મારુ\")\n",
        "    elif \"તમે\" in X1:\n",
        "      X1_ = X1.replace(\"તમે\", \"અમે\")\n",
        "    elif \"તમારા\" in X1:\n",
        "      X1_ = X1.replace(\"તમારા\", \"મારા\")\n",
        "    elif \"તમારી\" in X1:\n",
        "      X1_ = X1.replace(\"તમારી\", \"મારી\")\n",
        "    elif \"તુ\" in X1:\n",
        "      X1_ = X1.replace(\"તુ\", \"હું\")\n",
        "    elif \"તને\" in X1:\n",
        "      X1_ = X1.replace(\"તને\", \"મને\")\n",
        "    elif \"તમને\" in X1:\n",
        "      X1_ = X1.replace(\"તમને\", \"અમને\")\n",
        "    elif \"તારુ\" in X1:\n",
        "      X1_ = X1.replace(\"તારુ\", \"મારુ\") \n",
        "    para_tokens = nltk.word_tokenize(Text)\n",
        "    list_of_words = iwn.all_words(pos=pyiwn.PosTag.NOUN)\n",
        "    noun = []\n",
        "    for i in para_tokens:\n",
        "      if i in list_of_words:\n",
        "        noun.append(i)\n",
        "    Z = ' '.join(noun)\n",
        "    for i in range(len(para_tokens)):\n",
        "      if para_tokens[i] == noun[-1]:\n",
        "        Str = para_tokens[i+1: ]\n",
        "    U = ' '.join(Str)\n",
        "\n",
        "    Answer = X1_ + Z + \" \" + U\n",
        "    l = Answer.split()\n",
        "    k = []\n",
        "    for i in l:\n",
        "      if (Answer.count(i)>=1 and (i not in k)):\n",
        "        k.append(i)\n",
        "    print(' '.join(k))\n",
        "\n",
        "\n",
        "#How Many/ How Much Question\n",
        "How_many_much = [\"કેટલી\", \"કેટલા\", \"કેતલુ\", \"કેટલો\"]\n",
        "for i in How_many_much:\n",
        "  if i in Question:\n",
        "    if \"તમારું\" in X1:\n",
        "      X1_ = X1.replace(\"તમારું\", \"મારુ\")\n",
        "    elif \"તમે\" in X1:\n",
        "      X1_ = X1.replace(\"તમે\", \"અમે\")\n",
        "    elif \"તમારા\" in X1:\n",
        "      X1_ = X1.replace(\"તમારા\", \"મારા\")\n",
        "    elif \"તમારી\" in X1:\n",
        "      X1_ = X1.replace(\"તમારી\", \"મારી\")\n",
        "    elif \"તુ\" in X1:\n",
        "      X1_ = X1.replace(\"તુ\", \"હું\")\n",
        "    elif \"તને\" in X1:\n",
        "      X1_ = X1.replace(\"તને\", \"મને\")\n",
        "    elif \"તમને\" in X1:\n",
        "      X1_ = X1.replace(\"તમને\", \"અમને\")\n",
        "    elif \"તારુ\" in X1:\n",
        "      X1_ = X1.replace(\"તારુ\", \"મારુ\") \n",
        "    else:\n",
        "      X1_ = None\n",
        "    x = re.findall('[૦-૯]+', Text)\n",
        "    U = ' '.join(x)\n",
        "    C = []\n",
        "    if U == \"\":\n",
        "      j = [\"થોડું\", \"થોડો\", \"થોડુક\", \"થોડી\", \"થોડિક\", \"જરિક\",\"વધુ\", \"વધારે\", \"ટુંક\"]\n",
        "    for t in j:\n",
        "      if t in Text:\n",
        "        C.append(t)\n",
        "    U = ' '.join(C)\n",
        "    X3 = X2.replace(\"?\", \"\")\n",
        "    if X1_ == None:\n",
        "      Answer = X1 + \" \" + U + X3\n",
        "    else:\n",
        "      Answer = X1_ + \" \" + U + X3\n",
        "    print(Answer)\n",
        "\n",
        "\n",
        "#Which Question\n",
        "Which = [\"કયુ\", \"કયા\", \"કયી\", \"કયો\"]\n",
        "for i in Which:\n",
        "  if i in Question:\n",
        "    if \"તમારું\" in X1:\n",
        "      X1_ = X1.replace(\"તમારું\", \"મારુ\")\n",
        "    elif \"તમે\" in X1:\n",
        "      X1_ = X1.replace(\"તમે\", \"અમે\")\n",
        "    elif \"તમારા\" in X1:\n",
        "      X1_ = X1.replace(\"તમારા\", \"મારા\")\n",
        "    elif \"તમારી\" in X1:\n",
        "      X1_ = X1.replace(\"તમારી\", \"મારી\")\n",
        "    elif \"તુ\" in X1:\n",
        "      X1_ = X1.replace(\"તુ\", \"હું\")\n",
        "    elif \"તને\" in X1:\n",
        "      X1_ = X1.replace(\"તને\", \"મને\")\n",
        "    elif \"તમને\" in X1:\n",
        "      X1_ = X1.replace(\"તમને\", \"અમને\")\n",
        "    elif \"તારુ\" in X1:\n",
        "      X1_ = X1.replace(\"તારુ\", \"મારુ\") \n",
        "    else:\n",
        "      X1_ = None\n",
        "    para_tokens = nltk.word_tokenize(Text)\n",
        "    list_of_words = iwn.all_words(pos=pyiwn.PosTag.NOUN)\n",
        "    noun = []\n",
        "    for i in para_tokens:\n",
        "      if i in list_of_words:\n",
        "        noun.append(i)\n",
        "    Z = ' '.join(noun)\n",
        "    for i in range(len(para_tokens)):\n",
        "      if para_tokens[i] == noun[-1]:\n",
        "        Str = para_tokens[i+1: ]\n",
        "    U = ' '.join(Str)\n",
        "    \n",
        "    if X1_ == None:\n",
        "      Answer = X1 + Z + \" \" + U\n",
        "    else:\n",
        "      Answer = X1_ + Z +\" \"+ U\n",
        "    l = Answer.split()\n",
        "    k = []\n",
        "    for i in l:\n",
        "      if (Answer.count(i)>=1 and (i not in k)):\n",
        "        k.append(i)\n",
        "    print(' '.join(k))"
      ],
      "metadata": {
        "colab": {
          "base_uri": "https://localhost:8080/"
        },
        "id": "VllrLjKddOv-",
        "outputId": "84f33084-f0e4-432e-b45a-db6def501a80"
      },
      "execution_count": null,
      "outputs": [
        {
          "output_type": "stream",
          "name": "stdout",
          "text": [
            "અમે સુરત મુલાકાત લીધી\n"
          ]
        }
      ]
    }
  ]
}